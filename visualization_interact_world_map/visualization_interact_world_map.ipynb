{
 "cells": [
  {
   "cell_type": "code",
   "execution_count": null,
   "metadata": {},
   "outputs": [],
   "source": [
    "%matplotlib notebook\n",
    "import pandas as pd\n",
    "import matplotlib.pyplot as plt\n",
    "from mpl_toolkits.basemap import Basemap\n",
    "import numpy as np\n",
    "def data_process():\n",
    "    data_df = pd.read_csv('data.csv',usecols= ['countryEnglishName','provinceEnglishName','province_curedCount',\n",
    "                                'province_deadCount','province_confirmedCount','updateTime'],encoding = 'utf-8')\n",
    "    location_df = pd.read_csv('location.csv',usecols=['provinceEnglishName','longitude','latitude'])\n",
    "    data_df['updateTime'] = data_df['updateTime'].apply(lambda x:x.split(' ')[0])\n",
    "    data_df = data_df[data_df['updateTime']=='2020-04-14'].drop_duplicates(subset=['provinceEnglishName'], \n",
    "                                                                           keep='first')\n",
    "    data_df=data_df[~((data_df['countryEnglishName']=='China') & (data_df['provinceEnglishName']!='China'))]\n",
    "    df3 = pd.merge(data_df,location_df,on='provinceEnglishName',how='left')\n",
    "    df3.dropna(axis=0, how='any',inplace=True)\n",
    "    return df3\n",
    "class Virus_Map:\n",
    "    def __init__(self,df):\n",
    "        self.df=df\n",
    "        self.cid=None\n",
    "        self.count = 0\n",
    "        self.colors = ['r','g','gray']\n",
    "        self.cols=['province_confirmedCount','province_curedCount','province_deadCount']\n",
    "        self.titles=['全球累计确诊人数:','全球累计治愈人数:','全球累计死亡人数:']\n",
    "        self.route(None)\n",
    "    def draw(self):\n",
    "        fig.canvas.mpl_disconnect(self.cid)\n",
    "        m=Basemap()\n",
    "        m.drawcoastlines()\n",
    "        m.drawcountries(linewidth=1.5)\n",
    "        m.drawmapboundary(fill_color ='#c5e6f9')\n",
    "        plt.scatter(self.df['longitude'], self.df['latitude'], marker = 'o', color =self.colors[self.count%3],\n",
    "                                                s=np.sqrt(self.df[self.cols[self.count%3]])*2.5, alpha=0.7)\n",
    "        for i in range(len(self.df)):\n",
    "            s=self.df.iloc[i]\n",
    "            plt.annotate(s[self.cols[self.count%3]], xy = (s['longitude'],s['latitude']), \n",
    "                         xytext = (s['longitude'],s['latitude']),color='#262931')\n",
    "        plt.text(s=self.titles[self.count%3],x=-160,y=-40,fontsize=20,fontweight='heavy',\n",
    "                                                                            color=self.colors[self.count%3])\n",
    "        plt.text(s=str(self.df[self.cols[self.count%3]].sum()),x=-160,y=-47,fontsize=20,\n",
    "                                                                            color=self.colors[self.count%3])\n",
    "        self.cid=fig.canvas.mpl_connect('button_press_event', lambda event:self.route(event))\n",
    "        fig.canvas.draw()\n",
    "        #plt.savefig('C:/Users/Lenovo/Desktop/'+str(self.count))\n",
    "    def route(self,event):\n",
    "        plt.cla()\n",
    "        plt.rcParams['font.sans-serif'] = ['SimHei']\n",
    "        plt.rcParams['axes.unicode_minus'] = False\n",
    "        self.draw()\n",
    "        self.count+=1\n",
    "fig= plt.figure(figsize=(20,10))\n",
    "ax=plt.axes([0.01,0.01,0.98,0.98])\n",
    "virus_map=Virus_Map(data_process())\n",
    "plt.show()"
   ]
  }
 ],
 "metadata": {
  "kernelspec": {
   "display_name": "Python 3",
   "language": "python",
   "name": "python3"
  },
  "language_info": {
   "codemirror_mode": {
    "name": "ipython",
    "version": 3
   },
   "file_extension": ".py",
   "mimetype": "text/x-python",
   "name": "python",
   "nbconvert_exporter": "python",
   "pygments_lexer": "ipython3",
   "version": "3.7.3"
  }
 },
 "nbformat": 4,
 "nbformat_minor": 4
}
